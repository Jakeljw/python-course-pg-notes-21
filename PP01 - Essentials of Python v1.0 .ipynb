{
 "cells": [
  {
   "cell_type": "markdown",
   "metadata": {},
   "source": [
    "# Variables"
   ]
  },
  {
   "cell_type": "markdown",
   "metadata": {},
   "source": [
    "The first thing we need is a way to store information. Whether it's a whole dataset, your birthday or the pictures you took on your holidays. We will all store them in variables. Remember, Python is dynamically typed, so a variable that is a string at the beginning can become an integer later on."
   ]
  },
  {
   "cell_type": "code",
   "execution_count": 1,
   "metadata": {},
   "outputs": [
    {
     "name": "stdout",
     "output_type": "stream",
     "text": [
      "47\n",
      "Age: 47\n",
      "Age:  47\n"
     ]
    }
   ],
   "source": [
    "# Assign the variable age the value 47, which is an integer\n",
    "age = 47\n",
    "\n",
    "# Print the variable\n",
    "print(age)\n",
    "\n",
    "# This will not work print('Age: '+age), as you concatenate a string and integer\n",
    "# But this will:\n",
    "print('Age: '+str(age))\n",
    "print('Age: ',age)"
   ]
  },
  {
   "cell_type": "markdown",
   "metadata": {},
   "source": [
    "Printing is great for keeping track of what your code is doing:"
   ]
  },
  {
   "cell_type": "code",
   "execution_count": 2,
   "metadata": {},
   "outputs": [
    {
     "name": "stdout",
     "output_type": "stream",
     "text": [
      "47\n",
      "forty seven\n"
     ]
    }
   ],
   "source": [
    "age = 47\n",
    "print(age)\n",
    "\n",
    "age = 'forty seven'\n",
    "print(age)"
   ]
  },
  {
   "cell_type": "markdown",
   "metadata": {},
   "source": [
    "### Various ways of printing:"
   ]
  },
  {
   "cell_type": "code",
   "execution_count": 2,
   "metadata": {},
   "outputs": [
    {
     "name": "stdout",
     "output_type": "stream",
     "text": [
      "ada lovelace\n",
      "ADA LOVELACE\n",
      "Ada Lovelace\n",
      "\n",
      "\n",
      "|lovelace |\n",
      "| lovelace|\n",
      "|lovelace|\n"
     ]
    }
   ],
   "source": [
    "#Various ways of printing\n",
    "name = \"Ada Lovelace\"\n",
    "print(name.lower())\n",
    "print(name.upper())\n",
    "print(name.title())\n",
    "\n",
    "#Prints a new line\n",
    "print(\"\\n\")\n",
    "\n",
    "#Stripping whitespace\n",
    "name = \" lovelace \"\n",
    "print(\"|\"+name.lstrip()+\"|\")\n",
    "print(\"|\"+name.rstrip()+\"|\")\n",
    "print(\"|\"+name.strip()+\"|\")\n",
    "\n",
    "# guessed why we are using the \"|\" symbol here? It could be anything else, really, change it and see!"
   ]
  },
  {
   "cell_type": "markdown",
   "metadata": {},
   "source": [
    "### Numbers:"
   ]
  },
  {
   "cell_type": "code",
   "execution_count": 5,
   "metadata": {},
   "outputs": [
    {
     "name": "stdout",
     "output_type": "stream",
     "text": [
      "a: \t\t10\n",
      "b: \t\t-10.1023\n",
      "absolute of b: \t\t\t10.1023\n",
      "rounded b: \t\t\t-10.102\n",
      "square of a: \t\t\t100\n",
      "cube of a: \t\t\t1000\n",
      "integer part of b: \t\t-10\n"
     ]
    }
   ],
   "source": [
    "a = 10\n",
    "b = -10.1023\n",
    "\n",
    "# Some operations illustrated\n",
    "print(\"a: \\t\\t\"+str(a))\n",
    "print(\"b: \\t\\t\"+str(b))\n",
    "print(\"absolute of b: \\t\\t\\t\"+str(abs(b)))\n",
    "print(\"rounded b: \\t\\t\\t\"+str(round(b,3)))\n",
    "print(\"square of a: \\t\\t\\t\"+ str(pow(a,2)))\n",
    "print(\"cube of a: \\t\\t\\t\"+ str(a**3))\n",
    "print(\"integer part of b: \\t\\t\"+ str(int(b)))\n",
    "\n",
    "# btw. \"\\t\" stands for a tab (moving to the next 'column') but can behave weird. Also try \"\\n\"\n",
    "# in general a \"\\\" (slash) means the character after the slash has a special meaning. \n",
    "# see https://docs.python.org/3/reference/lexical_analysis.html#string-and-bytes-literals"
   ]
  },
  {
   "cell_type": "code",
   "execution_count": null,
   "metadata": {},
   "outputs": [],
   "source": []
  },
  {
   "cell_type": "markdown",
   "metadata": {},
   "source": [
    "# Control flow"
   ]
  },
  {
   "cell_type": "markdown",
   "metadata": {},
   "source": [
    "Control flow statements are used to manage the order in which certain operations are executed, depending on conditions. Most notably, if and for statements can alter how your program treats certain scenarios. Notice the indentatation which is used. Python is strict on this, as it alters on what level your program will execute a statement."
   ]
  },
  {
   "cell_type": "markdown",
   "metadata": {},
   "source": [
    "## If statements"
   ]
  },
  {
   "cell_type": "code",
   "execution_count": 7,
   "metadata": {},
   "outputs": [
    {
     "name": "stdout",
     "output_type": "stream",
     "text": [
      "Price is negative!\n"
     ]
    }
   ],
   "source": [
    "price = -5;\n",
    "\n",
    "if price <0:\n",
    "    print(\"Price is negative!\")\n",
    "elif price <1:\n",
    "    print(\"Price is too small!\")\n",
    "else:\n",
    "    print(\"Price is suitable.\")\n",
    "    \n",
    "#     change the value in variable price, and re-run this"
   ]
  },
  {
   "cell_type": "markdown",
   "metadata": {},
   "source": [
    "### Comparing strings:"
   ]
  },
  {
   "cell_type": "code",
   "execution_count": 6,
   "metadata": {},
   "outputs": [
    {
     "name": "stdout",
     "output_type": "stream",
     "text": [
      "Not equal\n",
      "Equal\n"
     ]
    }
   ],
   "source": [
    "name1 = \"Ada\"\n",
    "name2 = \"ada\"\n",
    "\n",
    "# without modification:\n",
    "if name1 == name2:\n",
    "    print(\"Equal\")\n",
    "else:\n",
    "    print(\"Not equal\")\n",
    "\n",
    "#     lowercased:\n",
    "if name1.lower() == name2.lower():\n",
    "    print(\"Equal\")\n",
    "else:\n",
    "    print(\"Not equal\")"
   ]
  },
  {
   "cell_type": "markdown",
   "metadata": {},
   "source": [
    "### Connecting conditions with logical operators:"
   ]
  },
  {
   "cell_type": "code",
   "execution_count": 7,
   "metadata": {},
   "outputs": [
    {
     "name": "stdout",
     "output_type": "stream",
     "text": [
      "Number is between 1 and 10\n",
      "Number is lower than 3 or higher than 6\n"
     ]
    }
   ],
   "source": [
    "number = 9\n",
    "if number > 1 and not number > 9:\n",
    "    print(\"Number is between 1 and 10\")\n",
    "    \n",
    "if number < 3 or number > 6:\n",
    "    print(\"Number is lower than 3 or higher than 6\")\n",
    "    \n",
    "#     change the value in variable number, and re-run this"
   ]
  },
  {
   "cell_type": "markdown",
   "metadata": {},
   "source": [
    "### Indentation:"
   ]
  },
  {
   "cell_type": "code",
   "execution_count": 13,
   "metadata": {},
   "outputs": [
    {
     "name": "stdout",
     "output_type": "stream",
     "text": [
      "No indent (no tabs used)\n",
      "\tOne indent level in\n",
      "\t\tTwo indent levels in\n",
      "\t\tnumber 2 higher than 5\n",
      "\tWhen is this printed?\n"
     ]
    }
   ],
   "source": [
    "### Be careful with indentation\n",
    "\n",
    "# this example is a bit convoluted, but take a minute to explain why what is printed is printed!\n",
    "\n",
    "number_1 = 3\n",
    "number_2 = 7\n",
    "\n",
    "print('No indent (no tabs used)')\n",
    "if number_1 > 1:\n",
    "    print('\\tOne indent level in')\n",
    "    if number_2 > 5:\n",
    "        print('\\t\\tTwo indent levels in')\n",
    "        print('\\t\\tnumber 2 higher than 5') \n",
    "    else:\n",
    "        print('\\t\\tTwo indent levels in')\n",
    "        if number_2 > 7:\n",
    "            print('\\t\\t\\tThree indent levels in')\n",
    "            print('\\t\\t\\tnumber 2 higher than 3') \n",
    "\n",
    "    print('\\tWhen is this printed?')\n",
    "    \n",
    "#     change the values in variables, and re-run this. Can you reach all prints? Why not?\n",
    "# drawing this on paper or whiteboard might help."
   ]
  },
  {
   "cell_type": "markdown",
   "metadata": {},
   "source": [
    "## For loops"
   ]
  },
  {
   "cell_type": "code",
   "execution_count": null,
   "metadata": {},
   "outputs": [],
   "source": [
    "# List will be explained below\n",
    "number_list = [10,20,30,40]\n",
    "for item in number_list:\n",
    "    print(item)"
   ]
  },
  {
   "cell_type": "code",
   "execution_count": 17,
   "metadata": {},
   "outputs": [
    {
     "name": "stdout",
     "output_type": "stream",
     "text": [
      "1\n",
      "2\n",
      "3\n",
      "\n",
      "\n",
      "30\n",
      "45\n",
      "60\n",
      "75\n",
      "90\n",
      "105\n"
     ]
    }
   ],
   "source": [
    "for i in range(1,4):\n",
    "    print(i)\n",
    "\n",
    "print(\"\\n\") # why do you think this is here?\n",
    "\n",
    "for i in range(30,120,15):\n",
    "    print(i)\n",
    "# quess what this range does? and why? change the code to try your theory"
   ]
  },
  {
   "cell_type": "code",
   "execution_count": 18,
   "metadata": {},
   "outputs": [
    {
     "name": "stdout",
     "output_type": "stream",
     "text": [
      "a\n",
      "b\n",
      "c\n",
      "\n",
      "\n",
      "x\n",
      "y\n",
      "z\n"
     ]
    }
   ],
   "source": [
    "# you can define variable to loop through beforehand\n",
    "\n",
    "letter_list = ['a', 'b', 'c']\n",
    "for item in letter_list:\n",
    "    print(item)\n",
    "    \n",
    "print(\"\\n\")\n",
    "    \n",
    "# of even put it right in the loop syntax\n",
    "for item in ['x', 'y', 'z']:\n",
    "    print(item)\n",
    "    "
   ]
  },
  {
   "cell_type": "markdown",
   "metadata": {},
   "source": [
    "## While loops"
   ]
  },
  {
   "cell_type": "code",
   "execution_count": 25,
   "metadata": {},
   "outputs": [
    {
     "name": "stdout",
     "output_type": "stream",
     "text": [
      "purchase made. We have 1 items. Remaining budget 88\n",
      "purchase made. We have 2 items. Remaining budget 76\n",
      "purchase made. We have 3 items. Remaining budget 64\n",
      "purchase made. We have 4 items. Remaining budget 52\n",
      "purchase made. We have 5 items. Remaining budget 40\n",
      "purchase made. We have 6 items. Remaining budget 28\n",
      "purchase made. We have 7 items. Remaining budget 16\n",
      "purchase made. We have 8 items. Remaining budget 4\n"
     ]
    }
   ],
   "source": [
    "# these are useful if it is not clear how many times something happens\n",
    "# or when you want something to keep happening until a condition is met\n",
    "\n",
    "budget = 100\n",
    "cost = 12\n",
    "items_we_own = 0\n",
    "\n",
    "while budget > cost:\n",
    "    budget = budget - cost\n",
    "    items_we_own = items_we_own + 1\n",
    "    print(\"purchase made. We have\",items_we_own,\"items. Remaining budget\",budget)\n",
    "    \n",
    "# what would happen if cost was 10 and budget 100? how many purchase would be made for 100? Why just 9.\n",
    "# Can you fix the code so that it would make 10 purchases? (hint: it's about like \"while budget > cost:\")"
   ]
  },
  {
   "cell_type": "code",
   "execution_count": 26,
   "metadata": {},
   "outputs": [
    {
     "name": "stdout",
     "output_type": "stream",
     "text": [
      "80\n",
      "60\n"
     ]
    }
   ],
   "source": [
    "# btw. \"a -= b\" is a shortcut for \"a = a - b\"\n",
    "value = 100\n",
    "value = value - 10\n",
    "value = value - 10\n",
    "print(value)\n",
    "\n",
    "value -= 10\n",
    "value -= 10\n",
    "print(value)\n",
    "\n",
    "# try to simplify above code (about budget, cost and items we own) using this shortcut"
   ]
  },
  {
   "cell_type": "code",
   "execution_count": null,
   "metadata": {},
   "outputs": [],
   "source": []
  },
  {
   "cell_type": "markdown",
   "metadata": {},
   "source": [
    "# Collection data types"
   ]
  },
  {
   "cell_type": "markdown",
   "metadata": {},
   "source": [
    "In data analysis, it is important to be able to store vast amounts of data. Collections can help a great deal to structure all the data. Remember: we always start counting from 0 in Python (not in MATLAB)."
   ]
  },
  {
   "cell_type": "markdown",
   "metadata": {},
   "source": [
    "## Lists"
   ]
  },
  {
   "cell_type": "markdown",
   "metadata": {},
   "source": [
    "### Basics:"
   ]
  },
  {
   "cell_type": "code",
   "execution_count": 30,
   "metadata": {},
   "outputs": [
    {
     "name": "stdout",
     "output_type": "stream",
     "text": [
      "Name: Ada\n",
      "Name: Bool\n",
      "Name: Cal\n",
      "Name: Dee\n",
      "Name: Eli\n",
      "Name: Fee\n",
      "Name: Grace\n"
     ]
    }
   ],
   "source": [
    "names = [\"Ada\",\"Bool\",\"Cal\",\"Dee\",\"Eli\",\"Fee\",\"Grace\"]\n",
    "\n",
    "# Loop names\n",
    "for name in names:\n",
    "    print('Name: '+name)"
   ]
  },
  {
   "cell_type": "code",
   "execution_count": null,
   "metadata": {},
   "outputs": [],
   "source": [
    "names = [\"Ada\",\"Bool\",\"Cal\",\"Dee\",\"Eli\",\"Fee\",\"Grace\"]\n",
    "\n",
    "# Get second person from list\n",
    "# Lists start counting at 0\n",
    "someone = names[1]\n",
    "print(someone.upper())\n",
    "\n",
    "# Get last item\n",
    "someone_else = names[-1]\n",
    "print(someone_else.upper())\n",
    "\n",
    "# Get second to last item (note, you can re-use variables)\n",
    "someone_else = names[-2]\n",
    "print(someone_else.upper())"
   ]
  },
  {
   "cell_type": "code",
   "execution_count": 33,
   "metadata": {},
   "outputs": [
    {
     "name": "stdout",
     "output_type": "stream",
     "text": [
      "First three: ['Ada', 'Bool', 'Cal']\n",
      "First four: ['Ada', 'Bool', 'Cal', 'Dee']\n",
      "Up until the second to last one: ['Ada', 'Bool', 'Cal', 'Dee', 'Eli']\n",
      "Last two: ['Fee', 'Grace']\n"
     ]
    }
   ],
   "source": [
    "names = [\"Ada\",\"Bool\",\"Cal\",\"Dee\",\"Eli\",\"Fee\",\"Grace\"]\n",
    "print(\"First three: \"+str(names[0:3]))\n",
    "print(\"First four: \"+str(names[:4]))\n",
    "print(\"Up until the second to last one: \"+str(names[:-2]))\n",
    "print(\"Last two: \"+str(names[-2:]))"
   ]
  },
  {
   "cell_type": "markdown",
   "metadata": {},
   "source": [
    "### Enumeration:"
   ]
  },
  {
   "cell_type": "code",
   "execution_count": 41,
   "metadata": {},
   "outputs": [
    {
     "name": "stdout",
     "output_type": "stream",
     "text": [
      "<enumerate object at 0x7fafe12a5b40>\n"
     ]
    }
   ],
   "source": [
    "# Enumeration is 'sort of' breaking the list into a connection of items with their indexes\n",
    "# a but like [(0,\"Ada\"), (1,\"Boo\"), ...]\n",
    "print(enumerate(names))\n",
    "# but it's a compex object, so we'll need to loop therough it to see them"
   ]
  },
  {
   "cell_type": "code",
   "execution_count": 43,
   "metadata": {},
   "outputs": [
    {
     "name": "stdout",
     "output_type": "stream",
     "text": [
      "[(0, 'Ada'), (1, 'Bool'), (2, 'Cal'), (3, 'Dee'), (4, 'Eli'), (5, 'Fee'), (6, 'Grace')]\n"
     ]
    }
   ],
   "source": [
    "# or force it to become a list:\n",
    "print(list(enumerate(names)))"
   ]
  },
  {
   "cell_type": "code",
   "execution_count": null,
   "metadata": {},
   "outputs": [],
   "source": [
    "# Enumeration in action\n",
    "for index, name in enumerate(names):\n",
    "    print(name, \"is in the list under index\",index)"
   ]
  },
  {
   "cell_type": "code",
   "execution_count": 44,
   "metadata": {},
   "outputs": [
    {
     "name": "stdout",
     "output_type": "stream",
     "text": [
      "[(10, 'Ada'), (11, 'Bool'), (12, 'Cal'), (13, 'Dee'), (14, 'Eli'), (15, 'Fee'), (16, 'Grace')]\n"
     ]
    }
   ],
   "source": [
    "# you can also add a number to the 'enumerator' item, changing the starting counter/index\n",
    "print(list(enumerate(names,10)))"
   ]
  },
  {
   "cell_type": "markdown",
   "metadata": {},
   "source": [
    "### Searching and editing:"
   ]
  },
  {
   "cell_type": "code",
   "execution_count": 46,
   "metadata": {},
   "outputs": [
    {
     "name": "stdout",
     "output_type": "stream",
     "text": [
      "3\n",
      "['Ada', 'Bool', 'Cal', 'Dee', 'Eli', 'Fee', 'Grace', 'Hyan']\n",
      "['Ada', 'Bool', 'Benoi', 'Cal', 'Dee', 'Eli', 'Fee', 'Grace', 'Hyan']\n"
     ]
    }
   ],
   "source": [
    "names = [\"Ada\",\"Bool\",\"Cal\",\"Dee\",\"Eli\",\"Fee\",\"Grace\"]\n",
    "\n",
    "# Finding an element\n",
    "print(names.index(\"Dee\"))\n",
    "\n",
    "# Adding an element\n",
    "names.append(\"Hyan\")\n",
    "print(names)\n",
    "names.insert(2, \"Benoi\")\n",
    "print(names)\n",
    "\n",
    "# can you add many of the same items? What would .index return then? Try it!"
   ]
  },
  {
   "cell_type": "code",
   "execution_count": 50,
   "metadata": {},
   "outputs": [
    {
     "name": "stdout",
     "output_type": "stream",
     "text": [
      "['orange', 'pear', 'plum', 'banana']\n",
      "['orange', 'plum', 'banana']\n"
     ]
    }
   ],
   "source": [
    "#Removal\n",
    "fruits = [\"apple\",\"orange\",\"pear\",\"plum\",\"banana\"]\n",
    "del fruits[0]\n",
    "print(fruits)\n",
    "fruits.remove(\"pear\")\n",
    "print(fruits)"
   ]
  },
  {
   "cell_type": "code",
   "execution_count": 51,
   "metadata": {},
   "outputs": [
    {
     "name": "stdout",
     "output_type": "stream",
     "text": [
      "['apple', 'orange', 'pear', 'plum', 'kiwi']\n",
      "False\n",
      "Length of the list: 5\n"
     ]
    }
   ],
   "source": [
    "# Modifying an element\n",
    "fruits = [\"apple\",\"orange\",\"pear\",\"plum\",\"banana\"]\n",
    "fruits[4] = \"kiwi\"\n",
    "print(fruits)\n",
    "\n",
    "# Test whether an item is in the list\n",
    "print(\"tomato\" in fruits) \n",
    "# what is going on here? why does it not print \"tomato something something\" ?\n",
    "\n",
    "# Length of a list\n",
    "print(\"Length of the list: \" + str(len(fruits)))"
   ]
  },
  {
   "cell_type": "markdown",
   "metadata": {},
   "source": [
    "### Sorting and copying:"
   ]
  },
  {
   "cell_type": "code",
   "execution_count": 53,
   "metadata": {},
   "outputs": [
    {
     "name": "stdout",
     "output_type": "stream",
     "text": [
      "['apple', 'banana', 'orange', 'pear', 'plum']\n",
      "['apple', 'orange', 'pear', 'plum', 'banana']\n"
     ]
    }
   ],
   "source": [
    "fruits = [\"apple\",\"orange\",\"pear\",\"plum\",\"banana\"]\n",
    "# Temporary sorting (without changing the original variable)\n",
    "print(sorted(fruits))\n",
    "\n",
    "print(fruits) # see? unchanged fruits!"
   ]
  },
  {
   "cell_type": "code",
   "execution_count": null,
   "metadata": {},
   "outputs": [],
   "source": [
    "fruits = [\"apple\",\"orange\",\"pear\",\"plum\",\"banana\"]\n",
    "# Make changes permanent\n",
    "fruits.sort()\n",
    "print(\"Sorted fruits: \" + str(fruits))\n",
    "fruits.sort(reverse=True)\n",
    "print(\"Reverse sorted names: \" + str(fruits))"
   ]
  },
  {
   "cell_type": "code",
   "execution_count": 55,
   "metadata": {},
   "outputs": [
    {
     "name": "stdout",
     "output_type": "stream",
     "text": [
      "Sorted fruits:  ['apple', 'orange', 'pear', 'plum', 'banana']\n",
      "Sorted fruits: ['apple', 'orange', 'pear', 'plum', 'banana']\n"
     ]
    },
    {
     "ename": "TypeError",
     "evalue": "can only concatenate str (not \"list\") to str",
     "output_type": "error",
     "traceback": [
      "\u001b[0;31m---------------------------------------------------------------------------\u001b[0m",
      "\u001b[0;31mTypeError\u001b[0m                                 Traceback (most recent call last)",
      "\u001b[0;32m<ipython-input-55-acb1edae9389>\u001b[0m in \u001b[0;36m<module>\u001b[0;34m\u001b[0m\n\u001b[1;32m      2\u001b[0m \u001b[0mprint\u001b[0m\u001b[0;34m(\u001b[0m\u001b[0;34m\"Sorted fruits: \"\u001b[0m\u001b[0;34m,\u001b[0m\u001b[0mfruits\u001b[0m\u001b[0;34m)\u001b[0m\u001b[0;34m\u001b[0m\u001b[0;34m\u001b[0m\u001b[0m\n\u001b[1;32m      3\u001b[0m \u001b[0mprint\u001b[0m\u001b[0;34m(\u001b[0m\u001b[0;34m\"Sorted fruits: \"\u001b[0m \u001b[0;34m+\u001b[0m \u001b[0mstr\u001b[0m\u001b[0;34m(\u001b[0m\u001b[0mfruits\u001b[0m\u001b[0;34m)\u001b[0m\u001b[0;34m)\u001b[0m\u001b[0;34m\u001b[0m\u001b[0;34m\u001b[0m\u001b[0m\n\u001b[0;32m----> 4\u001b[0;31m \u001b[0mprint\u001b[0m\u001b[0;34m(\u001b[0m\u001b[0;34m\"Sorted fruits: \"\u001b[0m \u001b[0;34m+\u001b[0m\u001b[0mfruits\u001b[0m\u001b[0;34m)\u001b[0m\u001b[0;34m\u001b[0m\u001b[0;34m\u001b[0m\u001b[0m\n\u001b[0m\u001b[1;32m      5\u001b[0m \u001b[0;31m# can you guess what happens here, and why there's an error? (it's tricky)\u001b[0m\u001b[0;34m\u001b[0m\u001b[0;34m\u001b[0m\u001b[0;34m\u001b[0m\u001b[0m\n",
      "\u001b[0;31mTypeError\u001b[0m: can only concatenate str (not \"list\") to str"
     ]
    }
   ],
   "source": [
    "# btw: what is the difference between\n",
    "print(\"Sorted fruits: \",fruits)\n",
    "print(\"Sorted fruits: \" + str(fruits))\n",
    "print(\"Sorted fruits: \" +fruits)\n",
    "# can you guess what happens here, and why there's an error? (it's tricky)"
   ]
  },
  {
   "cell_type": "code",
   "execution_count": 57,
   "metadata": {},
   "outputs": [
    {
     "name": "stdout",
     "output_type": "stream",
     "text": [
      "['apple', 'pear', 'plum', 'banana']\n",
      "['apple', 'pear', 'plum', 'banana']\n"
     ]
    }
   ],
   "source": [
    "fruits = [\"apple\",\"orange\",\"pear\",\"plum\",\"banana\"]\n",
    "# Copying list (a shallow copy just duplicates the pointer to the memory address). \n",
    "# Changing original, or copy, changes the other one too... \n",
    "plants = fruits\n",
    "plants.remove(\"orange\")\n",
    "print(plants)\n",
    "print(fruits)\n",
    "# what happened? why?"
   ]
  },
  {
   "cell_type": "code",
   "execution_count": 59,
   "metadata": {},
   "outputs": [
    {
     "name": "stdout",
     "output_type": "stream",
     "text": [
      "['apple', 'pear', 'plum', 'banana']\n",
      "['apple', 'orange', 'pear', 'plum', 'banana']\n"
     ]
    }
   ],
   "source": [
    "# Now a 'deep' copy - it creates a completely new place in memory, independent of original\n",
    "fruits = [\"apple\",\"orange\",\"pear\",\"plum\",\"banana\"]\n",
    "\n",
    "plants = fruits.copy()\n",
    "plants.remove(\"orange\")\n",
    "print(plants)\n",
    "print(fruits)"
   ]
  },
  {
   "cell_type": "code",
   "execution_count": null,
   "metadata": {},
   "outputs": [],
   "source": [
    "#Alternative way to copy. Select 'all items' in the original and 'capture' them\n",
    "print(\"Alternative way deep copy\")\n",
    "namez = names[:]\n",
    "namez.remove(\"Giovanni\")\n",
    "print(namez)\n",
    "print(names)"
   ]
  },
  {
   "cell_type": "code",
   "execution_count": null,
   "metadata": {},
   "outputs": [],
   "source": [
    "# but what is [:] ?????? \n",
    "#  [2:4] mean from from item 2 till item 4\n",
    "#  [2:] mean from item 2 till end,\n",
    "#  [:4] mean from beginning till item 4\n",
    "#  [:] mean from beginning till end\n",
    "fruits = [\"apple\",\"orange\",\"pear\",\"plum\",\"banana\"]\n",
    "print(fruits[2:4])\n",
    "print(fruits[2:])\n",
    "print(fruits[:4])\n",
    "print(fruits[:])\n",
    "# do you now see why [:] deep-coppies a list?"
   ]
  },
  {
   "cell_type": "code",
   "execution_count": 65,
   "metadata": {},
   "outputs": [
    {
     "name": "stdout",
     "output_type": "stream",
     "text": [
      "['pear', 'plum']\n"
     ]
    }
   ],
   "source": [
    "# also: what do you think negative indexes would do? why? try it\n",
    "print(fruits[-3:-1])"
   ]
  },
  {
   "cell_type": "markdown",
   "metadata": {},
   "source": [
    "### Strings as lists:"
   ]
  },
  {
   "cell_type": "code",
   "execution_count": 66,
   "metadata": {},
   "outputs": [
    {
     "name": "stdout",
     "output_type": "stream",
     "text": [
      "Last nine letters: analytics\n",
      "'analytics' in course title? True\n"
     ]
    }
   ],
   "source": [
    "# the word for a sentence is \"String\" - it means a string of characters, or a \"List\" of characters.\n",
    "\n",
    "course = \"Predictive analytics\"\n",
    "print(\"Last nine letters: \"+course[-9:])\n",
    "print(\"\\'analytics\\' in course title? \"+str(\"analytics\" in course))"
   ]
  },
  {
   "cell_type": "code",
   "execution_count": 67,
   "metadata": {},
   "outputs": [
    {
     "name": "stdout",
     "output_type": "stream",
     "text": [
      "Start location of analytics: 11\n",
      "Predictive analysis\n"
     ]
    }
   ],
   "source": [
    "print(\"Start location of analytics: \"+str(course.find(\"analytics\")))\n",
    "print(course.replace(\"analytics\",\"analysis\"))"
   ]
  },
  {
   "cell_type": "code",
   "execution_count": 69,
   "metadata": {},
   "outputs": [
    {
     "name": "stdout",
     "output_type": "stream",
     "text": [
      "['Predictive', 'analytics']\n",
      "Word: Predictive\n",
      "Word: analytics\n"
     ]
    }
   ],
   "source": [
    "list_of_words = course.split(\" \")\n",
    "print(list_of_words)\n",
    "for word in list_of_words:\n",
    "    print(\"Word: \"+word)"
   ]
  },
  {
   "cell_type": "code",
   "execution_count": 71,
   "metadata": {},
   "outputs": [
    {
     "name": "stdout",
     "output_type": "stream",
     "text": [
      "-1\n"
     ]
    }
   ],
   "source": [
    "print(course.find(\"Descriptive\")) # find() method returns -1 if the value is not found, also case sensitive"
   ]
  },
  {
   "cell_type": "markdown",
   "metadata": {},
   "source": [
    "## Sets"
   ]
  },
  {
   "cell_type": "code",
   "execution_count": null,
   "metadata": {},
   "outputs": [],
   "source": [
    "names = [\"Ada\",\"Bool\",\"Cal\",\"Dee\",\"Eli\",\"Fee\",\"Grace\"]\n",
    "name_set = set(names)\n",
    "print(name_set)\n",
    "\n",
    "# Add an element\n",
    "name_set.add(\"Hyan\")\n",
    "print(name_set)\n",
    "\n",
    "# Discard an element\n",
    "name_set.discard(\"Dee\")\n",
    "print(name_set)"
   ]
  },
  {
   "cell_type": "code",
   "execution_count": 76,
   "metadata": {},
   "outputs": [
    {
     "name": "stdout",
     "output_type": "stream",
     "text": [
      "{'Eli', 'Fee', 'Cal', 'Grace', 'Bool', 'Hyan', 'Ada'}\n"
     ]
    }
   ],
   "source": [
    "names = [\"Ada\",\"Bool\",\"Cal\",\"Dee\",\"Eli\",\"Fee\",\"Grace\"]\n",
    "name_set = set(names)\n",
    "\n",
    "# Elements in a set are unique (adding something again, just gets ignored)\n",
    "name_set.add(\"Hyan\")\n",
    "name_set.add(\"Hyan\")\n",
    "name_set.add(\"Hyan\")\n",
    "print(name_set)"
   ]
  },
  {
   "cell_type": "code",
   "execution_count": 78,
   "metadata": {},
   "outputs": [
    {
     "name": "stdout",
     "output_type": "stream",
     "text": [
      "{'Eli', 'Fee', 'Cal', 'Grace', 'Bool', 'Ada'}\n",
      "{'Dee'}\n"
     ]
    }
   ],
   "source": [
    "name_set = set([\"Ada\",\"Bool\",\"Cal\",\"Dee\",\"Eli\",\"Fee\",\"Grace\"])\n",
    "name_set2 = set([\"Xi\", \"Yann\", \"Dee\"])\n",
    "\n",
    "# Difference and intersection\n",
    "difference = name_set - name_set2\n",
    "print(difference)\n",
    "\n",
    "intersection = name_set.intersection(name_set2)\n",
    "print(intersection)"
   ]
  },
  {
   "cell_type": "markdown",
   "metadata": {},
   "source": [
    "## Dictionaries"
   ]
  },
  {
   "cell_type": "markdown",
   "metadata": {},
   "source": [
    "Dictionaries are a great way to store particular data as key-value pairs, which mimics the basic structure of a simple database."
   ]
  },
  {
   "cell_type": "code",
   "execution_count": 81,
   "metadata": {},
   "outputs": [
    {
     "name": "stdout",
     "output_type": "stream",
     "text": [
      "{'Scotland': 'Edinburgh', 'England': 'London', 'Northern Ireland': 'Belfast', 'Wales': 'Cardiff'}\n",
      "Edinburgh\n"
     ]
    }
   ],
   "source": [
    "capitols = {\"Scotland\" : \"Edinburgh\", \"England\" : \"London\", \"Northern Ireland\" : \"Belfast\", \"Wales\":\"Cardiff\"}\n",
    "print(capitols)\n",
    "\n",
    "# just like in a list a number like 0,1,2,3... was called \"index\" and pointed to a value\n",
    "# in a Dictionary you use a word, called \"key\" that points to a value \n",
    "print(capitols[\"Scotland\"])"
   ]
  },
  {
   "cell_type": "code",
   "execution_count": 83,
   "metadata": {},
   "outputs": [
    {
     "name": "stdout",
     "output_type": "stream",
     "text": [
      "Edinburgh is a capitol of Scotland\n",
      "London is a capitol of England\n",
      "Belfast is a capitol of Northern Ireland\n",
      "Cardiff is a capitol of Wales\n"
     ]
    }
   ],
   "source": [
    "for a_key in capitols:\n",
    "    print(capitols[a_key] +\" is a capitol of \" + a_key)\n",
    "    \n",
    "# what would be a better name for this variable than \"a_key\"? rename variable \"a_key\" to \"nation\""
   ]
  },
  {
   "cell_type": "code",
   "execution_count": 84,
   "metadata": {},
   "outputs": [
    {
     "name": "stdout",
     "output_type": "stream",
     "text": [
      "Edinburgh is a capitol of Scotland\n",
      "London is a capitol of England\n",
      "Belfast is a capitol of Northern Ireland\n",
      "Cardiff is a capitol of Wales\n"
     ]
    }
   ],
   "source": [
    "# or alternatively .items() will break a dictionary into pairs of keys and values\n",
    "for key, value in capitols.items():\n",
    "    print(value +\" is a capitol of \" + key)\n",
    "    \n",
    "# again: terrible variable names. change key and value to something meaningful"
   ]
  },
  {
   "cell_type": "code",
   "execution_count": 90,
   "metadata": {},
   "outputs": [
    {
     "name": "stdout",
     "output_type": "stream",
     "text": [
      "Edinburgh\n",
      "London\n",
      "Belfast\n",
      "Cardiff\n",
      "\n",
      "Scotland\n",
      "England\n",
      "Northern Ireland\n",
      "Wales\n"
     ]
    }
   ],
   "source": [
    "# you can also just request a list of values, or keys:\n",
    "for capitol in capitols.values():\n",
    "    print(capitol)\n",
    "\n",
    "print(\"\")\n",
    "\n",
    "for capitol in capitols.keys():\n",
    "    print(capitol)"
   ]
  },
  {
   "cell_type": "code",
   "execution_count": 87,
   "metadata": {},
   "outputs": [
    {
     "name": "stdout",
     "output_type": "stream",
     "text": [
      "{'Scotland': 'Edinburgh', 'England': 'London', 'Northern Ireland': 'Belfast', 'Wales': 'Cardiff', 'Poland': 'Krakow'}\n",
      "{'Scotland': 'Edinburgh', 'England': 'London', 'Northern Ireland': 'Belfast', 'Wales': 'Cardiff', 'Poland': 'Warsaw'}\n",
      "{'Scotland': 'Edinburgh', 'England': 'London', 'Northern Ireland': 'Belfast', 'Wales': 'Cardiff'}\n"
     ]
    }
   ],
   "source": [
    "# Adding items\n",
    "capitols[\"Poland\"] = \"Krakow\"\n",
    "print(capitols)\n",
    "\n",
    "# Overwrite\n",
    "capitols[\"Poland\"] = \"Warsaw\"\n",
    "print(capitols)\n",
    "\n",
    "# Remove\n",
    "del capitols[\"Poland\"]\n",
    "print(capitols)\n"
   ]
  },
  {
   "cell_type": "code",
   "execution_count": 91,
   "metadata": {},
   "outputs": [
    {
     "name": "stdout",
     "output_type": "stream",
     "text": [
      "\n",
      "Sorted output\n",
      "London is a capitol of England\n",
      "Belfast is a capitol of Northern Ireland\n",
      "Edinburgh is a capitol of Scotland\n",
      "Cardiff is a capitol of Wales\n"
     ]
    }
   ],
   "source": [
    "# Sorted output\n",
    "\n",
    "for nation, capitol in sorted(capitols.items()):\n",
    "    print(capitol +\" is a capitol of \" + nation)\n",
    "    \n",
    "# how did it get sorted? Why? Try to figure it out!"
   ]
  },
  {
   "cell_type": "code",
   "execution_count": 94,
   "metadata": {},
   "outputs": [
    {
     "name": "stdout",
     "output_type": "stream",
     "text": [
      "Xi\n",
      "31\n",
      "False\n"
     ]
    }
   ],
   "source": [
    "# Most of the time Dictionaries are used to describe real-world objects. \n",
    "\n",
    "employee = {\"name\":\"Xi\", \"age\": 31, \"on_duty\": False}\n",
    "print(employee[\"name\"])\n",
    "print(employee[\"age\"])\n",
    "print(employee[\"on_duty\"])"
   ]
  },
  {
   "cell_type": "code",
   "execution_count": 96,
   "metadata": {},
   "outputs": [
    {
     "name": "stdout",
     "output_type": "stream",
     "text": [
      "[{'name': 'banana', 'color': 'yellow'}, {'name': 'apple', 'color': 'red'}]\n",
      "{'name': 'apple', 'color': 'red'}\n",
      "red\n"
     ]
    }
   ],
   "source": [
    "# Often Lists or Dictionaries can contain other lists, or dictionaries\n",
    "# This type of format is called JSON (JavaScript Object Notation)\n",
    "\n",
    "fruits = [{\"name\":\"banana\", \"color\":\"yellow\"}, {\"name\":\"apple\", \"color\":\"red\"}]\n",
    "print(fruits)\n",
    "print(fruits[1])\n",
    "print(fruits[1][\"color\"])\n",
    "\n",
    "# try adding another fruit and printing its name"
   ]
  },
  {
   "cell_type": "code",
   "execution_count": 97,
   "metadata": {},
   "outputs": [
    {
     "name": "stdout",
     "output_type": "stream",
     "text": [
      "{'name': 'Scotland', 'capitol': 'Edinburgh', 'languages': ['English', 'Scottish Gaelic']}\n",
      "Scotland\n",
      "Scottish Gaelic\n",
      "True\n"
     ]
    }
   ],
   "source": [
    "country = {\"name\":\"Scotland\", \"capitol\":\"Edinburgh\", \"languages\":[\"English\", \"Scottish Gaelic\"]}\n",
    "print(country)\n",
    "print(country[\"name\"])\n",
    "print(country[\"languages\"][1])\n",
    "print(\"English\" in country[\"languages\"])"
   ]
  },
  {
   "cell_type": "markdown",
   "metadata": {},
   "source": [
    "# List Comprehensions \n",
    "\n",
    "## These are Python's own mini-loops for filtering and changing data \n",
    "\n",
    "You might have not seen this syntax in other languages.\n",
    "\n",
    "**Note that the word 'Comprehension' means:**\n",
    "\n",
    "- **'Understanding in a new way'**\n",
    "- **'paying attention only relevant parts'**\n",
    "\n",
    "List comprehension takes in a list, and 'represents/understands' each item in a way you specify. It can also limit which elements you are interested in:\n",
    "\n",
    "Syntax:\n",
    "\n",
    "```\n",
    "[ output\n",
    "input\n",
    "condition]\n",
    "```\n",
    "sometimes written as \n",
    "```\n",
    "[ output input condition]\n",
    "```\n",
    "\n",
    "for example:"
   ]
  },
  {
   "cell_type": "code",
   "execution_count": 1,
   "metadata": {},
   "outputs": [
    {
     "data": {
      "text/plain": [
       "['A', 'C', 'D', 'E', 'F']"
      ]
     },
     "execution_count": 1,
     "metadata": {},
     "output_type": "execute_result"
    }
   ],
   "source": [
    "# represent each item in a list as only it's first character:\n",
    "\n",
    "names = [\"Ada\",\"Bool\",\"Cal\",\"Dee\",\"Eli\",\"Fee\",\"Grace\"]\n",
    "[name[0]\n",
    "    for name in names\n",
    "]"
   ]
  },
  {
   "cell_type": "code",
   "execution_count": null,
   "metadata": {},
   "outputs": [],
   "source": [
    "# only do it for names that are 3 characters long\n",
    "\n",
    "names = [\"Ada\",\"Bool\",\"Cal\",\"Dee\",\"Eli\",\"Fee\",\"Grace\"]\n",
    "print([name[0]\n",
    "    for name in names\n",
    "    if len(name) == 3\n",
    "])"
   ]
  },
  {
   "cell_type": "code",
   "execution_count": null,
   "metadata": {},
   "outputs": [],
   "source": [
    "# tricky, but useful: do not change names but only take those that are 3 characters long\n",
    "# notice that output part is just the variable 'name'\n",
    "\n",
    "names = [\"Ada\",\"Bool\",\"Cal\",\"Dee\",\"Eli\",\"Fee\",\"Grace\"]\n",
    "print([ name\n",
    "    for name in names\n",
    "    if len(name) == 3\n",
    "])"
   ]
  },
  {
   "cell_type": "code",
   "execution_count": 4,
   "metadata": {},
   "outputs": [
    {
     "name": "stdout",
     "output_type": "stream",
     "text": [
      "['Ada', 'Cal', 'Dee', 'Eli', 'Fee']\n"
     ]
    }
   ],
   "source": [
    "# note that it can be written as this, but that's not very readable\n",
    "print([ name for name in names if len(name) == 3])"
   ]
  },
  {
   "cell_type": "code",
   "execution_count": 2,
   "metadata": {},
   "outputs": [
    {
     "name": "stdout",
     "output_type": "stream",
     "text": [
      "['banana', 'pear']\n"
     ]
    }
   ],
   "source": [
    "# super useful example: only get names of fruits that are yellow\n",
    "\n",
    "fruits = [{\"name\":\"banana\", \"color\":\"yellow\"}, {\"name\":\"apple\", \"color\":\"red\"},{\"name\":\"pear\", \"color\":\"yellow\"}]\n",
    "yellow_fruits = [fruit['name']\n",
    "    for fruit in fruits\n",
    "    if fruit['color'] == \"yellow\"\n",
    "]\n",
    "print(yellow_fruits)"
   ]
  },
  {
   "cell_type": "markdown",
   "metadata": {},
   "source": [
    "# Functions"
   ]
  },
  {
   "cell_type": "markdown",
   "metadata": {},
   "source": [
    "Functions form the backbone of all code. You have already used some, like print(). You can easily define them yourself as well.\n",
    "\n",
    "you define a function by starting with def, and call it by passing arguments to it within a ()"
   ]
  },
  {
   "cell_type": "code",
   "execution_count": 5,
   "metadata": {},
   "outputs": [
    {
     "name": "stdout",
     "output_type": "stream",
     "text": [
      "Goodmorning\n",
      "YouMe\n"
     ]
    }
   ],
   "source": [
    "def combine_words(word1, word2):\n",
    "    # you can print in functions, eg. to check if things work well\n",
    "    # first run this as is, then uncomment line below   \n",
    "    # print(\"about to combine:\",word1, word2)\n",
    "    # but functions work best if they return a result of their operation\n",
    "    return word1 + word2\n",
    "\n",
    "print(combine_words(\"Good\",\"morning\"))\n",
    "print(combine_words(\"You\",\"Me\"))\n",
    "\n",
    "# look at the order of prints, can you explain why it is exactly like this?"
   ]
  },
  {
   "cell_type": "code",
   "execution_count": 114,
   "metadata": {},
   "outputs": [
    {
     "name": "stdout",
     "output_type": "stream",
     "text": [
      "about to combine: 100 20\n",
      "120\n"
     ]
    }
   ],
   "source": [
    "# functions ar often very flexible, even if you do not intend them to be\n",
    "print(combine_words(100, 20))\n",
    "\n",
    "# did you expect 10020 ?"
   ]
  },
  {
   "cell_type": "code",
   "execution_count": 102,
   "metadata": {},
   "outputs": [
    {
     "name": "stdout",
     "output_type": "stream",
     "text": [
      "Ada A Lovelace\n"
     ]
    }
   ],
   "source": [
    "def full_name(firstname, middlename, surname):\n",
    "    return firstname.title() + \" \" + middlename[0].upper() + \" \" + surname.title()\n",
    "\n",
    "inventor_of_programming = full_name(\"ada\", \"augusta\", \"lovelace\")\n",
    "print(inventor_of_programming)"
   ]
  },
  {
   "cell_type": "code",
   "execution_count": null,
   "metadata": {},
   "outputs": [],
   "source": [
    "# Try it: Write a function that takes a list, and an item, and checks if that item is in the list\n",
    "# what arguments will that function take in, what will it return? how will you call it?"
   ]
  }
 ],
 "metadata": {
  "kernelspec": {
   "display_name": "Python 3",
   "language": "python",
   "name": "python3"
  },
  "language_info": {
   "codemirror_mode": {
    "name": "ipython",
    "version": 3
   },
   "file_extension": ".py",
   "mimetype": "text/x-python",
   "name": "python",
   "nbconvert_exporter": "python",
   "pygments_lexer": "ipython3",
   "version": "3.8.8"
  }
 },
 "nbformat": 4,
 "nbformat_minor": 2
}
