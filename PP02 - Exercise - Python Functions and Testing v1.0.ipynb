{
 "cells": [
  {
   "cell_type": "markdown",
   "metadata": {},
   "source": [
    "# Exercise 1"
   ]
  },
  {
   "cell_type": "markdown",
   "metadata": {},
   "source": [
    "An easy one to start with. Calculate the number of letters in your name:"
   ]
  },
  {
   "cell_type": "code",
   "execution_count": 2,
   "metadata": {
    "nbgrader": {
     "grade": false,
     "grade_id": "get_length_name",
     "locked": false,
     "schema_version": 1,
     "solution": true
    }
   },
   "outputs": [],
   "source": [
    "def get_length_name(first_name, last_name):\n",
    "    length = 0\n",
    "    \n",
    "    ### BEGIN SOLUTION    \n",
    "\n",
    "    ### END SOLUTION\n",
    "    \n",
    "    return length"
   ]
  },
  {
   "cell_type": "code",
   "execution_count": 3,
   "metadata": {},
   "outputs": [
    {
     "data": {
      "text/plain": [
       "0"
      ]
     },
     "execution_count": 3,
     "metadata": {},
     "output_type": "execute_result"
    }
   ],
   "source": [
    "first_name = \"Ada\"\n",
    "last_name = \"Lovelace\"\n",
    "\n",
    "get_length_name(first_name, last_name)"
   ]
  },
  {
   "cell_type": "markdown",
   "metadata": {},
   "source": [
    "Verify your answer (you typically get 1 answer for free, so you are aware of how the exercises are validated):"
   ]
  },
  {
   "cell_type": "code",
   "execution_count": 13,
   "metadata": {
    "nbgrader": {
     "grade": true,
     "grade_id": "get_length_name",
     "locked": true,
     "points": "5",
     "schema_version": 1,
     "solution": false
    }
   },
   "outputs": [],
   "source": [
    "assert get_length_name('Grace','Hopper') == 11\n",
    "\n",
    "### BEGIN HIDDEN TESTS\n",
    "\n",
    "\n",
    "assert get_length_name('Anita','Borg') == 9\n",
    "\n",
    "\n",
    "assert get_length_name('','') == 0\n",
    "\n",
    "\n",
    "assert get_length_name('f','') == 1\n",
    "\n",
    "\n",
    "assert get_length_name('','jj') == 2\n",
    "### END HIDDEN TESTS"
   ]
  },
  {
   "cell_type": "markdown",
   "metadata": {},
   "source": [
    "# Exercise 2"
   ]
  },
  {
   "cell_type": "markdown",
   "metadata": {},
   "source": [
    "The second exercise focuses on arithmetic and arrays.\n",
    "Find the sum of the elements of two arrays."
   ]
  },
  {
   "cell_type": "code",
   "execution_count": 14,
   "metadata": {
    "nbgrader": {
     "grade": false,
     "grade_id": "get_array_sums",
     "locked": false,
     "schema_version": 1,
     "solution": true
    }
   },
   "outputs": [],
   "source": [
    "arr1 = [1, 2, 3, 4, 5]\n",
    "arr2 = [6, 7, 8, 9, 10]\n",
    "\n",
    "def get_array_sums(arr1, arr2):\n",
    "    sum1 = 0  # or other ways you prefer\n",
    "    sum2 = 0\n",
    "    \n",
    "    ### BEGIN SOLUTION \n",
    "\n",
    "    \n",
    "    ### END SOLUTION\n",
    "    \n",
    "    return sum1+sum2"
   ]
  },
  {
   "cell_type": "markdown",
   "metadata": {},
   "source": [
    "Verify your answer:"
   ]
  },
  {
   "cell_type": "code",
   "execution_count": 15,
   "metadata": {
    "nbgrader": {
     "grade": true,
     "grade_id": "get_array_sums",
     "locked": true,
     "points": "5",
     "schema_version": 1,
     "solution": false
    }
   },
   "outputs": [],
   "source": [
    "assert get_array_sums([1, 2, 3, 4, 5],[6, 7, 8, 9, 10]) == 55\n",
    "\n",
    "### BEGIN HIDDEN TESTS\n",
    "\n",
    "\n",
    "assert get_array_sums([1, 2, 3, 4, 5],[6, 7, 8, 9, 10]) == 55\n",
    "\n",
    "\n",
    "assert get_array_sums([],[6, 7, 8, 9, 10]) == 40\n",
    "\n",
    "\n",
    "assert get_array_sums([1, 2, 3, 4, 5],[]) == 15\n",
    "\n",
    "\n",
    "assert get_array_sums([],[]) == 0\n",
    "### END HIDDEN TESTS"
   ]
  },
  {
   "cell_type": "markdown",
   "metadata": {},
   "source": [
    "# Exercise 3"
   ]
  },
  {
   "cell_type": "markdown",
   "metadata": {},
   "source": [
    "Calculate how many years you need to obtain a certain amount by starting with an initial amount and a given interest rate. Don't forget: we use compound interest: you get interest on your interest."
   ]
  },
  {
   "cell_type": "code",
   "execution_count": 24,
   "metadata": {
    "nbgrader": {
     "grade": false,
     "grade_id": "calculate_interest",
     "locked": false,
     "schema_version": 1,
     "solution": true
    }
   },
   "outputs": [],
   "source": [
    "amount = 1000\n",
    "target = 2000\n",
    "interest_rate = 0.02\n",
    "\n",
    "def calculate_interest(amount, target, interest_rate):\n",
    "    number_of_years = 0  # or other ways you prefer\n",
    "    \n",
    "    ### BEGIN SOLUTION    \n",
    "\n",
    "    ### END SOLUTION\n",
    "    \n",
    "    return number_of_years"
   ]
  },
  {
   "cell_type": "markdown",
   "metadata": {},
   "source": [
    "Verify your answer:"
   ]
  },
  {
   "cell_type": "code",
   "execution_count": 25,
   "metadata": {
    "nbgrader": {
     "grade": true,
     "grade_id": "calculate_interest",
     "locked": true,
     "points": "8",
     "schema_version": 1,
     "solution": false
    }
   },
   "outputs": [],
   "source": [
    "assert calculate_interest(1000,2000,0.02) == 36\n",
    "\n",
    "### BEGIN HIDDEN TESTS\n",
    "\n",
    "\n",
    "assert calculate_interest(1000,1500,0.02) == 21\n",
    "\n",
    "\n",
    "assert calculate_interest(1,1500,0.8) == 13\n",
    "\n",
    "\n",
    "assert calculate_interest(1,80000000000,0.01) == 2524\n",
    "### END HIDDEN TESTS"
   ]
  },
  {
   "cell_type": "markdown",
   "metadata": {},
   "source": [
    "# Exercise 4"
   ]
  },
  {
   "cell_type": "markdown",
   "metadata": {},
   "source": [
    "Remove the duplicates from a list."
   ]
  },
  {
   "cell_type": "code",
   "execution_count": 26,
   "metadata": {
    "nbgrader": {
     "grade": false,
     "grade_id": "remove_duplicates",
     "locked": false,
     "schema_version": 1,
     "solution": true
    }
   },
   "outputs": [],
   "source": [
    "input_list = [\"Anita\", \"Ada\", \"Anita\", \"Grace\", \"Grace\"]\n",
    "\n",
    "def remove_duplicates(input_list):\n",
    "    output_list = [] # or other ways you prefer\n",
    "    \n",
    "    ### BEGIN SOLUTION    \n",
    "\n",
    "    ### END SOLUTION\n",
    "    \n",
    "    return output_list"
   ]
  },
  {
   "cell_type": "markdown",
   "metadata": {},
   "source": [
    "Verify your answer:"
   ]
  },
  {
   "cell_type": "code",
   "execution_count": 27,
   "metadata": {
    "nbgrader": {
     "grade": true,
     "grade_id": "remove_duplicates",
     "locked": true,
     "points": "4",
     "schema_version": 1,
     "solution": false
    }
   },
   "outputs": [],
   "source": [
    "assert remove_duplicates([\"Anita\", \"Ada\", \"Anita\", \"Grace\", \"Grace\"]) == ['Anita', 'Ada', 'Grace']\n",
    "\n",
    "### BEGIN HIDDEN TESTS\n",
    "\n",
    "\n",
    "assert remove_duplicates([]) == []\n",
    "\n",
    "\n",
    "assert remove_duplicates([\"Anita\", \"Ada\", \"Anita\"]) == ['Anita', 'Ada']\n",
    "\n",
    "\n",
    "assert remove_duplicates([\"123\", \"345\", \"345\"]) == [\"123\", \"345\"]\n",
    "### END HIDDEN TESTS"
   ]
  },
  {
   "cell_type": "markdown",
   "metadata": {},
   "source": [
    "# Exercise 5"
   ]
  },
  {
   "cell_type": "markdown",
   "metadata": {},
   "source": [
    "Find the total number of hours taught by a particular individual. The input is two dictionaries: one containing the courses and their organisers, and one containing the courses and hours of lectures."
   ]
  },
  {
   "cell_type": "code",
   "execution_count": 2,
   "metadata": {
    "nbgrader": {
     "grade": false,
     "grade_id": "cell-2aa20234cf44249b",
     "locked": false,
     "schema_version": 1,
     "solution": true
    }
   },
   "outputs": [],
   "source": [
    "courses = {\"Analytics\": \"Xuefei\", \"Mega analytics\" : \"Xuefei\", \"Basic analytics\" : \"Yannis\"}\n",
    "hours = {\"Analytics\": 15, \"Mega analytics\": 10, \"Basic analytics\":5}\n",
    "organizer = \"Xuefei\"\n",
    "\n",
    "def find_hours_for_organizer(organizer, courses, points):\n",
    "    total = 0 # or other ways you prefer\n",
    "    \n",
    "    ### BEGIN SOLUTION    \n",
    "\n",
    "    ### END SOLUTION\n",
    "    \n",
    "    return total"
   ]
  },
  {
   "cell_type": "markdown",
   "metadata": {},
   "source": [
    "Verify your answer:"
   ]
  },
  {
   "cell_type": "code",
   "execution_count": 3,
   "metadata": {
    "nbgrader": {
     "grade": true,
     "grade_id": "find_points_for-organizer",
     "locked": true,
     "points": "6",
     "schema_version": 1,
     "solution": false
    }
   },
   "outputs": [],
   "source": [
    "courses = {\"Analytics\": \"Xuefei\", \"Mega analytics\" : \"Xuefei\", \"Basic analytics\" : \"Yannis\"}\n",
    "hours = {\"Analytics\": 15, \"Mega analytics\": 10, \"Basic analytics\":5}\n",
    "\n",
    "assert find_hours_for_organizer(\"Xuefei\", courses, points) == 25\n",
    "\n",
    "### BEGIN HIDDEN TESTS\n",
    "\n",
    "\n",
    "assert find_hours_for_organizer(\"Yannis\", courses, points) == 5\n",
    "\n",
    "\n",
    "assert find_hours_for_organizer(\"\", courses, points) == 0\n",
    "### END HIDDEN TESTS"
   ]
  }
 ],
 "metadata": {
  "celltoolbar": "Create Assignment",
  "kernelspec": {
   "display_name": "Python 3",
   "language": "python",
   "name": "python3"
  },
  "language_info": {
   "codemirror_mode": {
    "name": "ipython",
    "version": 3
   },
   "file_extension": ".py",
   "mimetype": "text/x-python",
   "name": "python",
   "nbconvert_exporter": "python",
   "pygments_lexer": "ipython3",
   "version": "3.8.8"
  }
 },
 "nbformat": 4,
 "nbformat_minor": 2
}
