{
 "cells": [
  {
   "cell_type": "markdown",
   "metadata": {},
   "source": [
    "# Variable conversion"
   ]
  },
  {
   "cell_type": "markdown",
   "metadata": {},
   "source": [
    "In this activity you will learn to convert variables from one type into the other."
   ]
  },
  {
   "cell_type": "markdown",
   "metadata": {},
   "source": [
    "## Numeric to categorical"
   ]
  },
  {
   "cell_type": "markdown",
   "metadata": {},
   "source": [
    "Consider the wine dataset we used earlier:"
   ]
  },
  {
   "cell_type": "code",
   "execution_count": 1,
   "metadata": {},
   "outputs": [
    {
     "name": "stdout",
     "output_type": "stream",
     "text": [
      "   alcohol  malic_acid   ash  alcalinity_of_ash  magnesium  total_phenols  \\\n",
      "0    14.23        1.71  2.43               15.6      127.0           2.80   \n",
      "1    13.20        1.78  2.14               11.2      100.0           2.65   \n",
      "2    13.16        2.36  2.67               18.6      101.0           2.80   \n",
      "3    14.37        1.95  2.50               16.8      113.0           3.85   \n",
      "4    13.24        2.59  2.87               21.0      118.0           2.80   \n",
      "\n",
      "   flavanoids  nonflavanoid_phenols  proanthocyanins  color_intensity   hue  \\\n",
      "0        3.06                  0.28             2.29             5.64  1.04   \n",
      "1        2.76                  0.26             1.28             4.38  1.05   \n",
      "2        3.24                  0.30             2.81             5.68  1.03   \n",
      "3        3.49                  0.24             2.18             7.80  0.86   \n",
      "4        2.69                  0.39             1.82             4.32  1.04   \n",
      "\n",
      "   od280/od315_of_diluted_wines  proline  \n",
      "0                          3.92   1065.0  \n",
      "1                          3.40   1050.0  \n",
      "2                          3.17   1185.0  \n",
      "3                          3.45   1480.0  \n",
      "4                          2.93    735.0  \n"
     ]
    }
   ],
   "source": [
    "import sklearn.datasets as datasets\n",
    "import pandas as pd\n",
    "import numpy as np\n",
    "\n",
    "dataset = datasets.load_wine()\n",
    "X = pd.DataFrame(data=dataset['data'], columns=dataset['feature_names'])\n",
    "\n",
    "print(X.head())"
   ]
  },
  {
   "cell_type": "markdown",
   "metadata": {},
   "source": [
    "Let's first bin the variable 'flavanoids' into 5 bins using pandas:"
   ]
  },
  {
   "cell_type": "code",
   "execution_count": 4,
   "metadata": {},
   "outputs": [
    {
     "name": "stdout",
     "output_type": "stream",
     "text": [
      "0     3.06\n",
      "1     2.76\n",
      "2     3.24\n",
      "3     3.49\n",
      "4     2.69\n",
      "5     3.39\n",
      "6     2.52\n",
      "7     2.51\n",
      "8     2.98\n",
      "9     3.15\n",
      "10    3.32\n",
      "11    2.43\n",
      "12    2.76\n",
      "13    3.69\n",
      "14    3.64\n",
      "15    2.91\n",
      "16    3.14\n",
      "17    3.40\n",
      "18    3.93\n",
      "19    3.03\n",
      "Name: flavanoids, dtype: float64\n"
     ]
    }
   ],
   "source": [
    "# let's first see 20 example values of flanoids\n",
    "print(X['flavanoids'].head(20))"
   ]
  },
  {
   "cell_type": "code",
   "execution_count": 5,
   "metadata": {},
   "outputs": [
    {
     "name": "stdout",
     "output_type": "stream",
     "text": [
      "(2.236, 3.184]    64\n",
      "(0.335, 1.288]    51\n",
      "(1.288, 2.236]    43\n",
      "(3.184, 4.132]    19\n",
      "(4.132, 5.08]      1\n",
      "Name: flavanoids, dtype: int64\n"
     ]
    }
   ],
   "source": [
    "# and now we can create 5 bins (bands/groups) to put them in\n",
    "flavanoids = pd.cut(X['flavanoids'], 5)\n",
    "print(flavanoids.value_counts())\n",
    "\n",
    "# this will print ranges of each bin, and count of items in it \n",
    "# (notice they are in count orderm not in range order)"
   ]
  },
  {
   "cell_type": "markdown",
   "metadata": {},
   "source": [
    "Notice that the bins are all of an equal width, but the distribution is uneven.\n",
    "We can use a different function to obtain equal-size bins:"
   ]
  },
  {
   "cell_type": "code",
   "execution_count": 6,
   "metadata": {},
   "outputs": [
    {
     "name": "stdout",
     "output_type": "stream",
     "text": [
      "(0.339, 0.872]    36\n",
      "(1.738, 2.46]     36\n",
      "(2.46, 2.98]      36\n",
      "(0.872, 1.738]    35\n",
      "(2.98, 5.08]      35\n",
      "Name: flavanoids, dtype: int64\n"
     ]
    }
   ],
   "source": [
    "flavanoids = pd.qcut(X['flavanoids'], 5)\n",
    "print(flavanoids.value_counts())"
   ]
  },
  {
   "cell_type": "markdown",
   "metadata": {},
   "source": [
    "## Categorical to numeric"
   ]
  },
  {
   "cell_type": "markdown",
   "metadata": {},
   "source": [
    "Let's create a colour variable:"
   ]
  },
  {
   "cell_type": "code",
   "execution_count": 22,
   "metadata": {},
   "outputs": [
    {
     "name": "stdout",
     "output_type": "stream",
     "text": [
      "['car' 'bicycle' 'none' 'none' 'bicycle' 'none' 'bicycle' 'bicycle' 'none'\n",
      " 'bicycle' 'car' 'none' 'none' 'none' 'bicycle' 'bicycle' 'bicycle' 'car'\n",
      " 'bicycle' 'none' 'none' 'bicycle' 'skateboard' 'none' 'none' 'bicycle'\n",
      " 'skateboard' 'none' 'bicycle' 'bicycle' 'none' 'none' 'bicycle' 'bicycle'\n",
      " 'bicycle' 'none' 'none' 'bicycle' 'none' 'none' 'none' 'bicycle' 'none'\n",
      " 'bicycle' 'bicycle' 'bicycle' 'none' 'none' 'none' 'none' 'skateboard'\n",
      " 'bicycle' 'bicycle' 'bicycle' 'none' 'bicycle' 'none' 'none' 'car' 'none'\n",
      " 'bicycle' 'none' 'car' 'none' 'none' 'skateboard' 'bicycle' 'bicycle'\n",
      " 'car' 'bicycle' 'none' 'bicycle' 'none' 'bicycle' 'skateboard' 'none'\n",
      " 'bicycle' 'none' 'none' 'none' 'none' 'none' 'car' 'bicycle' 'none'\n",
      " 'bicycle' 'none' 'car' 'none' 'car' 'bicycle' 'none' 'bicycle' 'none'\n",
      " 'bicycle' 'none' 'bicycle' 'skateboard' 'none' 'none']\n"
     ]
    }
   ],
   "source": [
    "vehicles =     ['none', 'car', 'bicycle', 'skateboard']\n",
    "probabilities = [0.5, 0.1, 0.3, 0.1] #(note: sum of p needs to be 1)\n",
    "\n",
    "# by the way, this is very useful to quickly create a random dataset\n",
    "# How does it work? Change values and observe outcome \n",
    "\n",
    "vehicles_data = np.random.choice(vehicles, 100, p=probabilities)\n",
    "print(vehicles_data)"
   ]
  },
  {
   "cell_type": "markdown",
   "metadata": {},
   "source": [
    "We can easily obtain dummies by using the following code:\n",
    "\n",
    "What are Dummy variables, or Indicator variables? They represent as a boolean value (0 or 1) if a given item has a given value. If item at index 0 is red, then first row will have 1 for color_red, and 0 for other columns: "
   ]
  },
  {
   "cell_type": "code",
   "execution_count": 25,
   "metadata": {},
   "outputs": [
    {
     "data": {
      "text/html": [
       "<div>\n",
       "<style scoped>\n",
       "    .dataframe tbody tr th:only-of-type {\n",
       "        vertical-align: middle;\n",
       "    }\n",
       "\n",
       "    .dataframe tbody tr th {\n",
       "        vertical-align: top;\n",
       "    }\n",
       "\n",
       "    .dataframe thead th {\n",
       "        text-align: right;\n",
       "    }\n",
       "</style>\n",
       "<table border=\"1\" class=\"dataframe\">\n",
       "  <thead>\n",
       "    <tr style=\"text-align: right;\">\n",
       "      <th></th>\n",
       "      <th>vehicle_bicycle</th>\n",
       "      <th>vehicle_car</th>\n",
       "      <th>vehicle_none</th>\n",
       "      <th>vehicle_skateboard</th>\n",
       "    </tr>\n",
       "  </thead>\n",
       "  <tbody>\n",
       "    <tr>\n",
       "      <th>0</th>\n",
       "      <td>0</td>\n",
       "      <td>1</td>\n",
       "      <td>0</td>\n",
       "      <td>0</td>\n",
       "    </tr>\n",
       "    <tr>\n",
       "      <th>1</th>\n",
       "      <td>1</td>\n",
       "      <td>0</td>\n",
       "      <td>0</td>\n",
       "      <td>0</td>\n",
       "    </tr>\n",
       "    <tr>\n",
       "      <th>2</th>\n",
       "      <td>0</td>\n",
       "      <td>0</td>\n",
       "      <td>1</td>\n",
       "      <td>0</td>\n",
       "    </tr>\n",
       "    <tr>\n",
       "      <th>3</th>\n",
       "      <td>0</td>\n",
       "      <td>0</td>\n",
       "      <td>1</td>\n",
       "      <td>0</td>\n",
       "    </tr>\n",
       "    <tr>\n",
       "      <th>4</th>\n",
       "      <td>1</td>\n",
       "      <td>0</td>\n",
       "      <td>0</td>\n",
       "      <td>0</td>\n",
       "    </tr>\n",
       "    <tr>\n",
       "      <th>5</th>\n",
       "      <td>0</td>\n",
       "      <td>0</td>\n",
       "      <td>1</td>\n",
       "      <td>0</td>\n",
       "    </tr>\n",
       "    <tr>\n",
       "      <th>6</th>\n",
       "      <td>1</td>\n",
       "      <td>0</td>\n",
       "      <td>0</td>\n",
       "      <td>0</td>\n",
       "    </tr>\n",
       "    <tr>\n",
       "      <th>7</th>\n",
       "      <td>1</td>\n",
       "      <td>0</td>\n",
       "      <td>0</td>\n",
       "      <td>0</td>\n",
       "    </tr>\n",
       "    <tr>\n",
       "      <th>8</th>\n",
       "      <td>0</td>\n",
       "      <td>0</td>\n",
       "      <td>1</td>\n",
       "      <td>0</td>\n",
       "    </tr>\n",
       "    <tr>\n",
       "      <th>9</th>\n",
       "      <td>1</td>\n",
       "      <td>0</td>\n",
       "      <td>0</td>\n",
       "      <td>0</td>\n",
       "    </tr>\n",
       "  </tbody>\n",
       "</table>\n",
       "</div>"
      ],
      "text/plain": [
       "   vehicle_bicycle  vehicle_car  vehicle_none  vehicle_skateboard\n",
       "0                0            1             0                   0\n",
       "1                1            0             0                   0\n",
       "2                0            0             1                   0\n",
       "3                0            0             1                   0\n",
       "4                1            0             0                   0\n",
       "5                0            0             1                   0\n",
       "6                1            0             0                   0\n",
       "7                1            0             0                   0\n",
       "8                0            0             1                   0\n",
       "9                1            0             0                   0"
      ]
     },
     "execution_count": 25,
     "metadata": {},
     "output_type": "execute_result"
    }
   ],
   "source": [
    "dummy_vehicles = pd.get_dummies(vehicles_data, prefix='vehicle')\n",
    "dummy_vehicles.head(10)"
   ]
  },
  {
   "cell_type": "code",
   "execution_count": 26,
   "metadata": {},
   "outputs": [
    {
     "data": {
      "text/html": [
       "<div>\n",
       "<style scoped>\n",
       "    .dataframe tbody tr th:only-of-type {\n",
       "        vertical-align: middle;\n",
       "    }\n",
       "\n",
       "    .dataframe tbody tr th {\n",
       "        vertical-align: top;\n",
       "    }\n",
       "\n",
       "    .dataframe thead th {\n",
       "        text-align: right;\n",
       "    }\n",
       "</style>\n",
       "<table border=\"1\" class=\"dataframe\">\n",
       "  <thead>\n",
       "    <tr style=\"text-align: right;\">\n",
       "      <th></th>\n",
       "      <th>vehicle_car</th>\n",
       "      <th>vehicle_none</th>\n",
       "      <th>vehicle_skateboard</th>\n",
       "    </tr>\n",
       "  </thead>\n",
       "  <tbody>\n",
       "    <tr>\n",
       "      <th>0</th>\n",
       "      <td>1</td>\n",
       "      <td>0</td>\n",
       "      <td>0</td>\n",
       "    </tr>\n",
       "    <tr>\n",
       "      <th>1</th>\n",
       "      <td>0</td>\n",
       "      <td>0</td>\n",
       "      <td>0</td>\n",
       "    </tr>\n",
       "    <tr>\n",
       "      <th>2</th>\n",
       "      <td>0</td>\n",
       "      <td>1</td>\n",
       "      <td>0</td>\n",
       "    </tr>\n",
       "    <tr>\n",
       "      <th>3</th>\n",
       "      <td>0</td>\n",
       "      <td>1</td>\n",
       "      <td>0</td>\n",
       "    </tr>\n",
       "    <tr>\n",
       "      <th>4</th>\n",
       "      <td>0</td>\n",
       "      <td>0</td>\n",
       "      <td>0</td>\n",
       "    </tr>\n",
       "    <tr>\n",
       "      <th>5</th>\n",
       "      <td>0</td>\n",
       "      <td>1</td>\n",
       "      <td>0</td>\n",
       "    </tr>\n",
       "    <tr>\n",
       "      <th>6</th>\n",
       "      <td>0</td>\n",
       "      <td>0</td>\n",
       "      <td>0</td>\n",
       "    </tr>\n",
       "    <tr>\n",
       "      <th>7</th>\n",
       "      <td>0</td>\n",
       "      <td>0</td>\n",
       "      <td>0</td>\n",
       "    </tr>\n",
       "    <tr>\n",
       "      <th>8</th>\n",
       "      <td>0</td>\n",
       "      <td>1</td>\n",
       "      <td>0</td>\n",
       "    </tr>\n",
       "    <tr>\n",
       "      <th>9</th>\n",
       "      <td>0</td>\n",
       "      <td>0</td>\n",
       "      <td>0</td>\n",
       "    </tr>\n",
       "  </tbody>\n",
       "</table>\n",
       "</div>"
      ],
      "text/plain": [
       "   vehicle_car  vehicle_none  vehicle_skateboard\n",
       "0            1             0                   0\n",
       "1            0             0                   0\n",
       "2            0             1                   0\n",
       "3            0             1                   0\n",
       "4            0             0                   0\n",
       "5            0             1                   0\n",
       "6            0             0                   0\n",
       "7            0             0                   0\n",
       "8            0             1                   0\n",
       "9            0             0                   0"
      ]
     },
     "execution_count": 26,
     "metadata": {},
     "output_type": "execute_result"
    }
   ],
   "source": [
    "# because each row includes only one true value, in some situations we simplify data by removing first column\n",
    "# since it's value can be implied (if no other column is 1, it is like first column was 1)\n",
    "\n",
    "dummy_vehicles = pd.get_dummies(vehicles_data, prefix='vehicle', drop_first=True)\n",
    "dummy_vehicles.head(10)\n",
    "\n",
    "# in some contexts it makes more sense than in others. "
   ]
  },
  {
   "cell_type": "markdown",
   "metadata": {},
   "source": [
    "Notice that first value is not included? All encoding is relative to the presence of firxt variable. This is due to the ```drop_first``` parameter."
   ]
  },
  {
   "cell_type": "markdown",
   "metadata": {},
   "source": [
    "We can also use scikit-learn:"
   ]
  },
  {
   "cell_type": "code",
   "execution_count": 28,
   "metadata": {},
   "outputs": [
    {
     "name": "stdout",
     "output_type": "stream",
     "text": [
      "[1 0 2 2 0 2 0 0 2 0 1 2 2 2 0 0 0 1 0 2 2 0 3 2 2 0 3 2 0 0 2 2 0 0 0 2 2\n",
      " 0 2 2 2 0 2 0 0 0 2 2 2 2 3 0 0 0 2 0 2 2 1 2 0 2 1 2 2 3 0 0 1 0 2 0 2 0\n",
      " 3 2 0 2 2 2 2 2 1 0 2 0 2 1 2 1 0 2 0 2 0 2 0 3 2 2]\n"
     ]
    }
   ],
   "source": [
    "from sklearn.preprocessing import LabelEncoder, OneHotEncoder\n",
    "\n",
    "# We can use a label encoder to transform categories into numbers\n",
    "enc = LabelEncoder()\n",
    "vehicles_label = enc.fit_transform(vehicles_data)\n",
    "print(vehicles_label)"
   ]
  },
  {
   "cell_type": "markdown",
   "metadata": {},
   "source": [
    "You will notice that every colour now has its own integer value."
   ]
  }
 ],
 "metadata": {
  "kernelspec": {
   "display_name": "Python 3",
   "language": "python",
   "name": "python3"
  },
  "language_info": {
   "codemirror_mode": {
    "name": "ipython",
    "version": 3
   },
   "file_extension": ".py",
   "mimetype": "text/x-python",
   "name": "python",
   "nbconvert_exporter": "python",
   "pygments_lexer": "ipython3",
   "version": "3.8.8"
  }
 },
 "nbformat": 4,
 "nbformat_minor": 2
}
